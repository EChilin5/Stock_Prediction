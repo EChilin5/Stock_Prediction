{
  "nbformat": 4,
  "nbformat_minor": 0,
  "metadata": {
    "colab": {
      "name": "Stock_Prediction.ipynb",
      "provenance": [],
      "collapsed_sections": [],
      "authorship_tag": "ABX9TyO/H5oXQXU0b3QLHlMyHVpR",
      "include_colab_link": true
    },
    "kernelspec": {
      "name": "python3",
      "display_name": "Python 3"
    },
    "accelerator": "GPU"
  },
  "cells": [
    {
      "cell_type": "markdown",
      "metadata": {
        "id": "view-in-github",
        "colab_type": "text"
      },
      "source": [
        "<a href=\"https://colab.research.google.com/github/EChilin5/Stock_Prediction/blob/master/Stock_Prediction.ipynb\" target=\"_parent\"><img src=\"https://colab.research.google.com/assets/colab-badge.svg\" alt=\"Open In Colab\"/></a>"
      ]
    },
    {
      "cell_type": "markdown",
      "metadata": {
        "id": "2G1FcHKi2TP9"
      },
      "source": [
        "# Neural Network using LSTM\n",
        "#Long Short Term Memory to predict Stock Price"
      ]
    },
    {
      "cell_type": "code",
      "metadata": {
        "id": "AmISSPWl6F4K"
      },
      "source": [
        "import math\n",
        "import pandas_datareader as web\n",
        "import numpy as np\n",
        "import pandas as pd\n",
        "from sklearn.preprocessing import MinMaxScaler\n",
        "from keras.models import Sequential \n",
        "from keras.layers import Dense, LSTM\n",
        "import matplotlib.pyplot as plt\n",
        "plt.style.use('fivethirtyeight')"
      ],
      "execution_count": null,
      "outputs": []
    },
    {
      "cell_type": "markdown",
      "metadata": {
        "id": "fdBm-2_i7cFl"
      },
      "source": [
        "get  the stock quote and display the data\n"
      ]
    },
    {
      "cell_type": "markdown",
      "metadata": {
        "id": "1YNF7hWm2mf_"
      },
      "source": [
        "# Retrieve spedific company data"
      ]
    },
    {
      "cell_type": "code",
      "metadata": {
        "id": "LYCqf7eJairP"
      },
      "source": [
        "retrieve_days = 1000\n",
        "Chewy = 'CHWY'\n",
        "#chewy does not work \n",
        "Abbvie = 'ABBV'\n",
        "Sony = 'SNE'\n",
        "Target = 'TGT'\n",
        "three_mmm = 'MMM'\n",
        "Micro = 'AMD'\n",
        "Company_Key= three_mmm\n",
        "start_Date = '2005-01-01'\n",
        "end_Date = '2020-12-04'"
      ],
      "execution_count": null,
      "outputs": []
    },
    {
      "cell_type": "code",
      "metadata": {
        "colab": {
          "base_uri": "https://localhost:8080/",
          "height": 450
        },
        "id": "IWXHx5Mt88uO",
        "outputId": "4f0ec2b4-2070-4bb5-a6ff-27df73b72296"
      },
      "source": [
        "df = web.DataReader(Company_Key, data_source='yahoo', start=start_Date, end=end_Date )\n",
        "df"
      ],
      "execution_count": null,
      "outputs": [
        {
          "output_type": "execute_result",
          "data": {
            "text/html": [
              "<div>\n",
              "<style scoped>\n",
              "    .dataframe tbody tr th:only-of-type {\n",
              "        vertical-align: middle;\n",
              "    }\n",
              "\n",
              "    .dataframe tbody tr th {\n",
              "        vertical-align: top;\n",
              "    }\n",
              "\n",
              "    .dataframe thead th {\n",
              "        text-align: right;\n",
              "    }\n",
              "</style>\n",
              "<table border=\"1\" class=\"dataframe\">\n",
              "  <thead>\n",
              "    <tr style=\"text-align: right;\">\n",
              "      <th></th>\n",
              "      <th>High</th>\n",
              "      <th>Low</th>\n",
              "      <th>Open</th>\n",
              "      <th>Close</th>\n",
              "      <th>Volume</th>\n",
              "      <th>Adj Close</th>\n",
              "    </tr>\n",
              "    <tr>\n",
              "      <th>Date</th>\n",
              "      <th></th>\n",
              "      <th></th>\n",
              "      <th></th>\n",
              "      <th></th>\n",
              "      <th></th>\n",
              "      <th></th>\n",
              "    </tr>\n",
              "  </thead>\n",
              "  <tbody>\n",
              "    <tr>\n",
              "      <th>2005-01-03</th>\n",
              "      <td>83.400002</td>\n",
              "      <td>82.050003</td>\n",
              "      <td>82.169998</td>\n",
              "      <td>82.400002</td>\n",
              "      <td>3192000.0</td>\n",
              "      <td>53.867741</td>\n",
              "    </tr>\n",
              "    <tr>\n",
              "      <th>2005-01-04</th>\n",
              "      <td>83.019997</td>\n",
              "      <td>81.669998</td>\n",
              "      <td>82.400002</td>\n",
              "      <td>81.730003</td>\n",
              "      <td>3644600.0</td>\n",
              "      <td>53.429741</td>\n",
              "    </tr>\n",
              "    <tr>\n",
              "      <th>2005-01-05</th>\n",
              "      <td>81.949997</td>\n",
              "      <td>80.730003</td>\n",
              "      <td>81.699997</td>\n",
              "      <td>80.730003</td>\n",
              "      <td>2895300.0</td>\n",
              "      <td>52.775993</td>\n",
              "    </tr>\n",
              "    <tr>\n",
              "      <th>2005-01-06</th>\n",
              "      <td>82.400002</td>\n",
              "      <td>80.820000</td>\n",
              "      <td>80.879997</td>\n",
              "      <td>81.459999</td>\n",
              "      <td>3014500.0</td>\n",
              "      <td>53.253227</td>\n",
              "    </tr>\n",
              "    <tr>\n",
              "      <th>2005-01-07</th>\n",
              "      <td>82.800003</td>\n",
              "      <td>81.250000</td>\n",
              "      <td>81.500000</td>\n",
              "      <td>82.300003</td>\n",
              "      <td>3293000.0</td>\n",
              "      <td>53.802364</td>\n",
              "    </tr>\n",
              "    <tr>\n",
              "      <th>...</th>\n",
              "      <td>...</td>\n",
              "      <td>...</td>\n",
              "      <td>...</td>\n",
              "      <td>...</td>\n",
              "      <td>...</td>\n",
              "      <td>...</td>\n",
              "    </tr>\n",
              "    <tr>\n",
              "      <th>2020-11-30</th>\n",
              "      <td>176.000000</td>\n",
              "      <td>172.699997</td>\n",
              "      <td>175.770004</td>\n",
              "      <td>172.729996</td>\n",
              "      <td>6141300.0</td>\n",
              "      <td>172.729996</td>\n",
              "    </tr>\n",
              "    <tr>\n",
              "      <th>2020-12-01</th>\n",
              "      <td>175.690002</td>\n",
              "      <td>170.009995</td>\n",
              "      <td>174.220001</td>\n",
              "      <td>170.520004</td>\n",
              "      <td>3859600.0</td>\n",
              "      <td>170.520004</td>\n",
              "    </tr>\n",
              "    <tr>\n",
              "      <th>2020-12-02</th>\n",
              "      <td>172.580002</td>\n",
              "      <td>170.220001</td>\n",
              "      <td>170.259995</td>\n",
              "      <td>171.850006</td>\n",
              "      <td>2421800.0</td>\n",
              "      <td>171.850006</td>\n",
              "    </tr>\n",
              "    <tr>\n",
              "      <th>2020-12-03</th>\n",
              "      <td>173.389999</td>\n",
              "      <td>171.039993</td>\n",
              "      <td>171.039993</td>\n",
              "      <td>171.830002</td>\n",
              "      <td>2377800.0</td>\n",
              "      <td>171.830002</td>\n",
              "    </tr>\n",
              "    <tr>\n",
              "      <th>2020-12-04</th>\n",
              "      <td>173.160004</td>\n",
              "      <td>171.539993</td>\n",
              "      <td>172.130005</td>\n",
              "      <td>172.460007</td>\n",
              "      <td>2663600.0</td>\n",
              "      <td>172.460007</td>\n",
              "    </tr>\n",
              "  </tbody>\n",
              "</table>\n",
              "<p>4010 rows × 6 columns</p>\n",
              "</div>"
            ],
            "text/plain": [
              "                  High         Low  ...     Volume   Adj Close\n",
              "Date                                ...                       \n",
              "2005-01-03   83.400002   82.050003  ...  3192000.0   53.867741\n",
              "2005-01-04   83.019997   81.669998  ...  3644600.0   53.429741\n",
              "2005-01-05   81.949997   80.730003  ...  2895300.0   52.775993\n",
              "2005-01-06   82.400002   80.820000  ...  3014500.0   53.253227\n",
              "2005-01-07   82.800003   81.250000  ...  3293000.0   53.802364\n",
              "...                ...         ...  ...        ...         ...\n",
              "2020-11-30  176.000000  172.699997  ...  6141300.0  172.729996\n",
              "2020-12-01  175.690002  170.009995  ...  3859600.0  170.520004\n",
              "2020-12-02  172.580002  170.220001  ...  2421800.0  171.850006\n",
              "2020-12-03  173.389999  171.039993  ...  2377800.0  171.830002\n",
              "2020-12-04  173.160004  171.539993  ...  2663600.0  172.460007\n",
              "\n",
              "[4010 rows x 6 columns]"
            ]
          },
          "metadata": {
            "tags": []
          },
          "execution_count": 336
        }
      ]
    },
    {
      "cell_type": "markdown",
      "metadata": {
        "id": "bYqcrLuU-F9l"
      },
      "source": [
        "get number of rows and columns"
      ]
    },
    {
      "cell_type": "code",
      "metadata": {
        "colab": {
          "base_uri": "https://localhost:8080/"
        },
        "id": "VL3pv5el96d2",
        "outputId": "627cbff2-241e-4398-c1d0-f06ef6e0c5a1"
      },
      "source": [
        "df.shape"
      ],
      "execution_count": null,
      "outputs": [
        {
          "output_type": "execute_result",
          "data": {
            "text/plain": [
              "(4010, 6)"
            ]
          },
          "metadata": {
            "tags": []
          },
          "execution_count": 337
        }
      ]
    },
    {
      "cell_type": "markdown",
      "metadata": {
        "id": "9BCBXSD8-loy"
      },
      "source": [
        "visualize the code\n",
        "\n",
        "\n"
      ]
    },
    {
      "cell_type": "markdown",
      "metadata": {
        "id": "cDCKnqri_1KF"
      },
      "source": [
        "Create a dataframe based on the closieing column"
      ]
    },
    {
      "cell_type": "code",
      "metadata": {
        "colab": {
          "base_uri": "https://localhost:8080/"
        },
        "id": "aYXeztYq_0Zz",
        "outputId": "64c7bea0-ce18-48f7-cdfd-7feb88134e2d"
      },
      "source": [
        "data=df.filter(['Close'])\n",
        "#convert dataframe to numpy\n",
        "dataset =data.values\n",
        "# get number of row to train the model\n",
        "training_data_len = math.ceil( len(dataset) * .8)\n",
        "\n",
        "training_data_len"
      ],
      "execution_count": null,
      "outputs": [
        {
          "output_type": "execute_result",
          "data": {
            "text/plain": [
              "3208"
            ]
          },
          "metadata": {
            "tags": []
          },
          "execution_count": 338
        }
      ]
    },
    {
      "cell_type": "markdown",
      "metadata": {
        "id": "Y-fC9CbLAlKc"
      },
      "source": [
        "scale the data"
      ]
    },
    {
      "cell_type": "code",
      "metadata": {
        "colab": {
          "base_uri": "https://localhost:8080/"
        },
        "id": "-VgiK8hyAlY7",
        "outputId": "c572750f-ce83-48dc-d3cc-ddc1cdfad9de"
      },
      "source": [
        "scaler = MinMaxScaler(feature_range=(0,1))\n",
        "scaled_data = scaler.fit_transform(dataset)\n",
        "\n",
        "scaled_data"
      ],
      "execution_count": null,
      "outputs": [
        {
          "output_type": "execute_result",
          "data": {
            "text/plain": [
              "array([[0.18713099],\n",
              "       [0.18404059],\n",
              "       [0.17942805],\n",
              "       ...,\n",
              "       [0.59972326],\n",
              "       [0.59963099],\n",
              "       [0.60253691]])"
            ]
          },
          "metadata": {
            "tags": []
          },
          "execution_count": 339
        }
      ]
    },
    {
      "cell_type": "markdown",
      "metadata": {
        "id": "RI9jQCfbBqx0"
      },
      "source": [
        "create the training data set\n",
        "\n"
      ]
    },
    {
      "cell_type": "code",
      "metadata": {
        "id": "Og5jBzCyByAP"
      },
      "source": [
        "train_data = scaled_data[0:training_data_len, :]\n",
        "\n",
        "x_train=[]\n",
        "y_train=[]\n",
        "\n",
        "for i in range(retrieve_days, len(train_data)):\n",
        "   x_train.append(train_data[i-retrieve_days:i, 0])\n",
        "   y_train.append(train_data[i, 0])\n",
        "\n",
        "#convert the data to numpy\n",
        "x_train, y_train = np.array(x_train), np.array(y_train)\n"
      ],
      "execution_count": null,
      "outputs": []
    },
    {
      "cell_type": "markdown",
      "metadata": {
        "id": "jkTjHvQ2Kync"
      },
      "source": [
        "reshape the data\n"
      ]
    },
    {
      "cell_type": "code",
      "metadata": {
        "colab": {
          "base_uri": "https://localhost:8080/"
        },
        "id": "rzqgsChJKyz9",
        "outputId": "09b0a9a7-6f69-452c-da9b-845b60a892b3"
      },
      "source": [
        "x_train = np.reshape(x_train, (x_train.shape[0], x_train.shape[1], 1))\n",
        "x_train.shape"
      ],
      "execution_count": null,
      "outputs": [
        {
          "output_type": "execute_result",
          "data": {
            "text/plain": [
              "(2208, 1000, 1)"
            ]
          },
          "metadata": {
            "tags": []
          },
          "execution_count": 341
        }
      ]
    },
    {
      "cell_type": "markdown",
      "metadata": {
        "id": "Mxb-BTobLVsl"
      },
      "source": [
        "build lstm model"
      ]
    },
    {
      "cell_type": "code",
      "metadata": {
        "id": "PrMoaRZhLYUM"
      },
      "source": [
        "model = Sequential()\n",
        "model.add(LSTM(50, return_sequences=True, input_shape=(x_train.shape[1], 1)))\n",
        "model.add(LSTM(50, return_sequences=False))\n",
        "model.add(Dense(25))\n",
        "model.add(Dense(1))"
      ],
      "execution_count": null,
      "outputs": []
    },
    {
      "cell_type": "markdown",
      "metadata": {
        "id": "6CrmSQliNBSw"
      },
      "source": [
        "compile the model"
      ]
    },
    {
      "cell_type": "code",
      "metadata": {
        "id": "UWfjT_K4M_8P"
      },
      "source": [
        "model.compile(optimizer='adam', loss='mean_squared_error', metrics=['accuracy'])"
      ],
      "execution_count": null,
      "outputs": []
    },
    {
      "cell_type": "code",
      "metadata": {
        "colab": {
          "base_uri": "https://localhost:8080/"
        },
        "id": "_qPPlnRsN4O7",
        "outputId": "a7735915-1ea0-4eb5-eeaa-706829e9a770"
      },
      "source": [
        "model.fit(x_train, y_train, batch_size=1000, epochs=50)"
      ],
      "execution_count": null,
      "outputs": [
        {
          "output_type": "stream",
          "text": [
            "Epoch 1/50\n",
            "3/3 [==============================] - 0s 136ms/step - loss: 0.1171 - accuracy: 4.5290e-04\n",
            "Epoch 2/50\n",
            "3/3 [==============================] - 0s 133ms/step - loss: 0.0130 - accuracy: 4.5290e-04\n",
            "Epoch 3/50\n",
            "3/3 [==============================] - 0s 134ms/step - loss: 0.0257 - accuracy: 4.5290e-04\n",
            "Epoch 4/50\n",
            "3/3 [==============================] - 0s 136ms/step - loss: 0.0058 - accuracy: 4.5290e-04\n",
            "Epoch 5/50\n",
            "3/3 [==============================] - 0s 137ms/step - loss: 0.0070 - accuracy: 4.5290e-04\n",
            "Epoch 6/50\n",
            "3/3 [==============================] - 0s 136ms/step - loss: 0.0098 - accuracy: 4.5290e-04\n",
            "Epoch 7/50\n",
            "3/3 [==============================] - 0s 137ms/step - loss: 0.0055 - accuracy: 4.5290e-04\n",
            "Epoch 8/50\n",
            "3/3 [==============================] - 0s 139ms/step - loss: 0.0024 - accuracy: 4.5290e-04\n",
            "Epoch 9/50\n",
            "3/3 [==============================] - 0s 135ms/step - loss: 0.0038 - accuracy: 4.5290e-04\n",
            "Epoch 10/50\n",
            "3/3 [==============================] - 0s 139ms/step - loss: 0.0031 - accuracy: 4.5290e-04\n",
            "Epoch 11/50\n",
            "3/3 [==============================] - 0s 135ms/step - loss: 0.0012 - accuracy: 4.5290e-04\n",
            "Epoch 12/50\n",
            "3/3 [==============================] - 0s 138ms/step - loss: 0.0015 - accuracy: 4.5290e-04\n",
            "Epoch 13/50\n",
            "3/3 [==============================] - 0s 139ms/step - loss: 0.0014 - accuracy: 4.5290e-04\n",
            "Epoch 14/50\n",
            "3/3 [==============================] - 0s 137ms/step - loss: 4.7722e-04 - accuracy: 4.5290e-04\n",
            "Epoch 15/50\n",
            "3/3 [==============================] - 0s 135ms/step - loss: 5.0513e-04 - accuracy: 4.5290e-04\n",
            "Epoch 16/50\n",
            "3/3 [==============================] - 0s 137ms/step - loss: 5.5570e-04 - accuracy: 4.5290e-04\n",
            "Epoch 17/50\n",
            "3/3 [==============================] - 0s 138ms/step - loss: 2.2014e-04 - accuracy: 4.5290e-04\n",
            "Epoch 18/50\n",
            "3/3 [==============================] - 0s 139ms/step - loss: 3.6247e-04 - accuracy: 4.5290e-04\n",
            "Epoch 19/50\n",
            "3/3 [==============================] - 0s 138ms/step - loss: 3.2681e-04 - accuracy: 4.5290e-04\n",
            "Epoch 20/50\n",
            "3/3 [==============================] - 0s 141ms/step - loss: 2.3861e-04 - accuracy: 4.5290e-04\n",
            "Epoch 21/50\n",
            "3/3 [==============================] - 0s 139ms/step - loss: 3.1520e-04 - accuracy: 4.5290e-04\n",
            "Epoch 22/50\n",
            "3/3 [==============================] - 0s 139ms/step - loss: 2.3369e-04 - accuracy: 4.5290e-04\n",
            "Epoch 23/50\n",
            "3/3 [==============================] - 0s 138ms/step - loss: 2.3790e-04 - accuracy: 4.5290e-04\n",
            "Epoch 24/50\n",
            "3/3 [==============================] - 0s 138ms/step - loss: 2.3560e-04 - accuracy: 4.5290e-04\n",
            "Epoch 25/50\n",
            "3/3 [==============================] - 0s 140ms/step - loss: 1.9683e-04 - accuracy: 4.5290e-04\n",
            "Epoch 26/50\n",
            "3/3 [==============================] - 0s 139ms/step - loss: 2.1628e-04 - accuracy: 4.5290e-04\n",
            "Epoch 27/50\n",
            "3/3 [==============================] - 0s 140ms/step - loss: 2.0117e-04 - accuracy: 4.5290e-04\n",
            "Epoch 28/50\n",
            "3/3 [==============================] - 0s 137ms/step - loss: 1.9923e-04 - accuracy: 4.5290e-04\n",
            "Epoch 29/50\n",
            "3/3 [==============================] - 0s 140ms/step - loss: 2.0200e-04 - accuracy: 4.5290e-04\n",
            "Epoch 30/50\n",
            "3/3 [==============================] - 0s 135ms/step - loss: 1.9544e-04 - accuracy: 4.5290e-04\n",
            "Epoch 31/50\n",
            "3/3 [==============================] - 0s 139ms/step - loss: 1.9821e-04 - accuracy: 4.5290e-04\n",
            "Epoch 32/50\n",
            "3/3 [==============================] - 0s 135ms/step - loss: 1.9466e-04 - accuracy: 4.5290e-04\n",
            "Epoch 33/50\n",
            "3/3 [==============================] - 0s 136ms/step - loss: 1.9486e-04 - accuracy: 4.5290e-04\n",
            "Epoch 34/50\n",
            "3/3 [==============================] - 0s 139ms/step - loss: 1.9255e-04 - accuracy: 4.5290e-04\n",
            "Epoch 35/50\n",
            "3/3 [==============================] - 0s 135ms/step - loss: 1.9311e-04 - accuracy: 4.5290e-04\n",
            "Epoch 36/50\n",
            "3/3 [==============================] - 0s 139ms/step - loss: 1.9315e-04 - accuracy: 4.5290e-04\n",
            "Epoch 37/50\n",
            "3/3 [==============================] - 0s 139ms/step - loss: 1.9141e-04 - accuracy: 4.5290e-04\n",
            "Epoch 38/50\n",
            "3/3 [==============================] - 0s 139ms/step - loss: 1.9140e-04 - accuracy: 4.5290e-04\n",
            "Epoch 39/50\n",
            "3/3 [==============================] - 0s 136ms/step - loss: 1.9122e-04 - accuracy: 4.5290e-04\n",
            "Epoch 40/50\n",
            "3/3 [==============================] - 0s 138ms/step - loss: 1.9088e-04 - accuracy: 4.5290e-04\n",
            "Epoch 41/50\n",
            "3/3 [==============================] - 0s 143ms/step - loss: 1.9057e-04 - accuracy: 4.5290e-04\n",
            "Epoch 42/50\n",
            "3/3 [==============================] - 0s 139ms/step - loss: 1.9051e-04 - accuracy: 4.5290e-04\n",
            "Epoch 43/50\n",
            "3/3 [==============================] - 0s 137ms/step - loss: 1.9045e-04 - accuracy: 4.5290e-04\n",
            "Epoch 44/50\n",
            "3/3 [==============================] - 0s 137ms/step - loss: 1.8989e-04 - accuracy: 4.5290e-04\n",
            "Epoch 45/50\n",
            "3/3 [==============================] - 0s 142ms/step - loss: 1.8970e-04 - accuracy: 4.5290e-04\n",
            "Epoch 46/50\n",
            "3/3 [==============================] - 0s 140ms/step - loss: 1.8951e-04 - accuracy: 4.5290e-04\n",
            "Epoch 47/50\n",
            "3/3 [==============================] - 0s 138ms/step - loss: 1.8916e-04 - accuracy: 4.5290e-04\n",
            "Epoch 48/50\n",
            "3/3 [==============================] - 0s 140ms/step - loss: 1.8958e-04 - accuracy: 4.5290e-04\n",
            "Epoch 49/50\n",
            "3/3 [==============================] - 0s 137ms/step - loss: 1.8972e-04 - accuracy: 4.5290e-04\n",
            "Epoch 50/50\n",
            "3/3 [==============================] - 0s 137ms/step - loss: 1.8919e-04 - accuracy: 4.5290e-04\n"
          ],
          "name": "stdout"
        },
        {
          "output_type": "execute_result",
          "data": {
            "text/plain": [
              "<tensorflow.python.keras.callbacks.History at 0x7f8986b10b70>"
            ]
          },
          "metadata": {
            "tags": []
          },
          "execution_count": 344
        }
      ]
    },
    {
      "cell_type": "code",
      "metadata": {
        "id": "Hq-Qw6pnOh-j"
      },
      "source": [
        "#create testing data set\n",
        "#create a new array for testing\n",
        "test_data = scaled_data[training_data_len - retrieve_days: , :]\n",
        "#create the datasets for x and y test\n",
        "x_test = []\n",
        "y_test = dataset[training_data_len:, :]\n",
        "\n",
        "for i in range(retrieve_days, len(test_data)):\n",
        "  x_test.append(test_data[i-(retrieve_days):i, 0])"
      ],
      "execution_count": null,
      "outputs": []
    },
    {
      "cell_type": "code",
      "metadata": {
        "id": "fSMU41dhPXzF"
      },
      "source": [
        "#convert data to numpy\n",
        "x_test = np.array(x_test)"
      ],
      "execution_count": null,
      "outputs": []
    },
    {
      "cell_type": "code",
      "metadata": {
        "id": "-TznBBtyPiQu"
      },
      "source": [
        "x_test = np.reshape(x_test, (x_test.shape[0], x_test.shape[1], 1))"
      ],
      "execution_count": null,
      "outputs": []
    },
    {
      "cell_type": "code",
      "metadata": {
        "id": "CN-t3OneP7FA"
      },
      "source": [
        "#get the model price values\n",
        "predictions = model.predict(x_test)\n",
        "predictions = scaler.inverse_transform(predictions)"
      ],
      "execution_count": null,
      "outputs": []
    },
    {
      "cell_type": "code",
      "metadata": {
        "colab": {
          "base_uri": "https://localhost:8080/"
        },
        "id": "n65Ck8obQW7y",
        "outputId": "a38bb363-c8b9-4b54-d077-46154f75206c"
      },
      "source": [
        "#get the MSE mean squared error\n",
        "mse = np.sqrt(np.mean(predictions - y_test) **2)\n",
        "mse"
      ],
      "execution_count": null,
      "outputs": [
        {
          "output_type": "execute_result",
          "data": {
            "text/plain": [
              "1.1880591242687957"
            ]
          },
          "metadata": {
            "tags": []
          },
          "execution_count": 349
        }
      ]
    },
    {
      "cell_type": "code",
      "metadata": {
        "colab": {
          "base_uri": "https://localhost:8080/",
          "height": 660
        },
        "id": "5dCJtQ6YQ6jx",
        "outputId": "b276372f-d3a7-4162-e32c-ff9f3055d94d"
      },
      "source": [
        "#plot the data\n",
        "train = data[:training_data_len]\n",
        "valid = data[training_data_len:]\n",
        "valid['Predictions'] = predictions\n",
        "\n",
        "plt.figure(figsize=(16,8))\n",
        "plt.title('Model')\n",
        "plt.xlabel('Date', fontsize=18)\n",
        "plt.ylabel('Close Price', fontsize = 18)\n",
        "plt.plot(train['Close'])\n",
        "plt.plot(valid[['Close', 'Predictions']])\n",
        "plt.legend(['Train', 'Val', 'Predictions'], loc='lower right')\n",
        "plt.show()"
      ],
      "execution_count": null,
      "outputs": [
        {
          "output_type": "stream",
          "text": [
            "/usr/local/lib/python3.6/dist-packages/ipykernel_launcher.py:4: SettingWithCopyWarning: \n",
            "A value is trying to be set on a copy of a slice from a DataFrame.\n",
            "Try using .loc[row_indexer,col_indexer] = value instead\n",
            "\n",
            "See the caveats in the documentation: https://pandas.pydata.org/pandas-docs/stable/user_guide/indexing.html#returning-a-view-versus-a-copy\n",
            "  after removing the cwd from sys.path.\n"
          ],
          "name": "stderr"
        },
        {
          "output_type": "display_data",
          "data": {
            "image/png": "[encoded data removed]",
            "text/plain": [
              "<Figure size 1152x576 with 1 Axes>"
            ]
          },
          "metadata": {
            "tags": []
          }
        }
      ]
    },
    {
      "cell_type": "code",
      "metadata": {
        "colab": {
          "base_uri": "https://localhost:8080/",
          "height": 450
        },
        "id": "HBq7wu3zToaE",
        "outputId": "ec088334-09fc-4ea9-dea6-3612f633ced0"
      },
      "source": [
        "#show valid and predicted prices\n",
        "valid"
      ],
      "execution_count": null,
      "outputs": [
        {
          "output_type": "execute_result",
          "data": {
            "text/html": [
              "<div>\n",
              "<style scoped>\n",
              "    .dataframe tbody tr th:only-of-type {\n",
              "        vertical-align: middle;\n",
              "    }\n",
              "\n",
              "    .dataframe tbody tr th {\n",
              "        vertical-align: top;\n",
              "    }\n",
              "\n",
              "    .dataframe thead th {\n",
              "        text-align: right;\n",
              "    }\n",
              "</style>\n",
              "<table border=\"1\" class=\"dataframe\">\n",
              "  <thead>\n",
              "    <tr style=\"text-align: right;\">\n",
              "      <th></th>\n",
              "      <th>Close</th>\n",
              "      <th>Predictions</th>\n",
              "    </tr>\n",
              "    <tr>\n",
              "      <th>Date</th>\n",
              "      <th></th>\n",
              "      <th></th>\n",
              "    </tr>\n",
              "  </thead>\n",
              "  <tbody>\n",
              "    <tr>\n",
              "      <th>2017-09-29</th>\n",
              "      <td>209.899994</td>\n",
              "      <td>211.281509</td>\n",
              "    </tr>\n",
              "    <tr>\n",
              "      <th>2017-10-02</th>\n",
              "      <td>212.759995</td>\n",
              "      <td>211.364746</td>\n",
              "    </tr>\n",
              "    <tr>\n",
              "      <th>2017-10-03</th>\n",
              "      <td>214.570007</td>\n",
              "      <td>211.509613</td>\n",
              "    </tr>\n",
              "    <tr>\n",
              "      <th>2017-10-04</th>\n",
              "      <td>216.520004</td>\n",
              "      <td>211.753159</td>\n",
              "    </tr>\n",
              "    <tr>\n",
              "      <th>2017-10-05</th>\n",
              "      <td>216.369995</td>\n",
              "      <td>212.128983</td>\n",
              "    </tr>\n",
              "    <tr>\n",
              "      <th>...</th>\n",
              "      <td>...</td>\n",
              "      <td>...</td>\n",
              "    </tr>\n",
              "    <tr>\n",
              "      <th>2020-11-30</th>\n",
              "      <td>172.729996</td>\n",
              "      <td>171.737717</td>\n",
              "    </tr>\n",
              "    <tr>\n",
              "      <th>2020-12-01</th>\n",
              "      <td>170.520004</td>\n",
              "      <td>172.380661</td>\n",
              "    </tr>\n",
              "    <tr>\n",
              "      <th>2020-12-02</th>\n",
              "      <td>171.850006</td>\n",
              "      <td>172.798279</td>\n",
              "    </tr>\n",
              "    <tr>\n",
              "      <th>2020-12-03</th>\n",
              "      <td>171.830002</td>\n",
              "      <td>173.082413</td>\n",
              "    </tr>\n",
              "    <tr>\n",
              "      <th>2020-12-04</th>\n",
              "      <td>172.460007</td>\n",
              "      <td>173.254303</td>\n",
              "    </tr>\n",
              "  </tbody>\n",
              "</table>\n",
              "<p>802 rows × 2 columns</p>\n",
              "</div>"
            ],
            "text/plain": [
              "                 Close  Predictions\n",
              "Date                               \n",
              "2017-09-29  209.899994   211.281509\n",
              "2017-10-02  212.759995   211.364746\n",
              "2017-10-03  214.570007   211.509613\n",
              "2017-10-04  216.520004   211.753159\n",
              "2017-10-05  216.369995   212.128983\n",
              "...                ...          ...\n",
              "2020-11-30  172.729996   171.737717\n",
              "2020-12-01  170.520004   172.380661\n",
              "2020-12-02  171.850006   172.798279\n",
              "2020-12-03  171.830002   173.082413\n",
              "2020-12-04  172.460007   173.254303\n",
              "\n",
              "[802 rows x 2 columns]"
            ]
          },
          "metadata": {
            "tags": []
          },
          "execution_count": 351
        }
      ]
    },
    {
      "cell_type": "code",
      "metadata": {
        "colab": {
          "base_uri": "https://localhost:8080/"
        },
        "id": "rKe9SeX8T4oy",
        "outputId": "5c94af48-8a19-41b4-df3f-5af1497bb0b8"
      },
      "source": [
        "#get the quote\n",
        "company_quote = web.DataReader(Company_Key, data_source='yahoo', start=start_Date, end=end_Date)\n",
        "new_df = company_quote.filter(['Close'])\n",
        "#get the last 60 day  clsoring price conver to array\n",
        "last_days = new_df[-retrieve_days:].values\n",
        "#scale data between 0 and 1\n",
        "last_days_scaled = scaler.transform(last_days)\n",
        "#create and empty list\n",
        "X_Final_Test = []\n",
        "#append the last 60 days\n",
        "X_Final_Test.append(last_days_scaled)\n",
        "#convert the x_test to a numpy array\n",
        "X_Final_Test = np.array(X_Final_Test)\n",
        "X_Final_Test = np.reshape(X_Final_Test, (X_Final_Test.shape[0], X_Final_Test.shape[1], 1))\n",
        "#get the predicted scale\n",
        "\n",
        "pred_price = model.predict(X_Final_Test)\n",
        "pred_price = scaler.inverse_transform(pred_price)\n",
        "print(Company_Key + \" Prediction\")\n",
        "print(pred_price)"
      ],
      "execution_count": null,
      "outputs": [
        {
          "output_type": "stream",
          "text": [
            "MMM Prediction\n",
            "[[173.36275]]\n"
          ],
          "name": "stdout"
        }
      ]
    },
    {
      "cell_type": "code",
      "metadata": {
        "colab": {
          "base_uri": "https://localhost:8080/"
        },
        "id": "roCf0WguV1yc",
        "outputId": "c2ee35c2-e77b-4c78-aec0-74efd71a608a"
      },
      "source": [
        "#get the quote\n",
        "company_actual_quote = web.DataReader(Company_Key, data_source='yahoo', start=end_Date, end=end_Date )\n",
        "print('Actaul closing Data ' + Company_Key)\n",
        "print(company_actual_quote['Close'])"
      ],
      "execution_count": null,
      "outputs": [
        {
          "output_type": "stream",
          "text": [
            "Actaul closing Data MMM\n",
            "Date\n",
            "2020-12-04    172.460007\n",
            "2020-12-04    172.460007\n",
            "Name: Close, dtype: float64\n"
          ],
          "name": "stdout"
        }
      ]
    }
  ]
}